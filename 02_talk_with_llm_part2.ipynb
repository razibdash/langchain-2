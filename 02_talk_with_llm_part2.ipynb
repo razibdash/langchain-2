{
 "cells": [
  {
   "cell_type": "markdown",
   "id": "c74ca373",
   "metadata": {},
   "source": [
    "chat completion model\n"
   ]
  },
  {
   "cell_type": "code",
   "execution_count": 1,
   "id": "f5687617",
   "metadata": {},
   "outputs": [
    {
     "name": "stdout",
     "output_type": "stream",
     "text": [
      "Langchain 2\n"
     ]
    }
   ],
   "source": [
    "print(\"Langchain 2\")"
   ]
  },
  {
   "cell_type": "code",
   "execution_count": null,
   "id": "c216e3ec",
   "metadata": {},
   "outputs": [],
   "source": []
  }
 ],
 "metadata": {
  "kernelspec": {
   "display_name": "llmapp",
   "language": "python",
   "name": "python3"
  },
  "language_info": {
   "codemirror_mode": {
    "name": "ipython",
    "version": 3
   },
   "file_extension": ".py",
   "mimetype": "text/x-python",
   "name": "python",
   "nbconvert_exporter": "python",
   "pygments_lexer": "ipython3",
   "version": "3.11.13"
  }
 },
 "nbformat": 4,
 "nbformat_minor": 5
}
