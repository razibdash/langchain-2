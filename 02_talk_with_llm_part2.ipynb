{
 "cells": [
  {
   "cell_type": "markdown",
   "id": "c74ca373",
   "metadata": {},
   "source": [
    "chat completion model\n"
   ]
  },
  {
   "cell_type": "code",
   "execution_count": 1,
   "id": "f5687617",
   "metadata": {},
   "outputs": [
    {
     "name": "stdout",
     "output_type": "stream",
     "text": [
      "Langchain 2\n"
     ]
    }
   ],
   "source": [
    "print(\"Langchain 2\")"
   ]
  },
  {
   "cell_type": "code",
   "execution_count": 1,
   "id": "a41669ac",
   "metadata": {},
   "outputs": [],
   "source": [
    "import os\n",
    "from dotenv import load_dotenv, find_dotenv\n",
    "_ = load_dotenv(find_dotenv())\n",
    "from langchain_groq import ChatGroq\n",
    "GROQ_API_KEY=os.environ[\"GROQ_API_KEY\"]"
   ]
  },
  {
   "cell_type": "code",
   "execution_count": 2,
   "id": "c216e3ec",
   "metadata": {},
   "outputs": [
    {
     "name": "stderr",
     "output_type": "stream",
     "text": [
      "d:\\anaconda\\envs\\llmapp\\Lib\\site-packages\\langchain_groq\\chat_models.py:370: UserWarning: WARNING! max_completion_tokens is not default parameter.\n",
      "                    max_completion_tokens was transferred to model_kwargs.\n",
      "                    Please confirm that max_completion_tokens is what you intended.\n",
      "  warnings.warn(\n",
      "d:\\anaconda\\envs\\llmapp\\Lib\\site-packages\\langchain_groq\\chat_models.py:370: UserWarning: WARNING! top_p is not default parameter.\n",
      "                    top_p was transferred to model_kwargs.\n",
      "                    Please confirm that top_p is what you intended.\n",
      "  warnings.warn(\n"
     ]
    }
   ],
   "source": [
    "\n",
    "# Initialize the Groq LLM with the model name and parameters\n",
    "llamaChatModel = ChatGroq(\n",
    "    api_key=GROQ_API_KEY,\n",
    "    model=\"llama3-70b-8192\",\n",
    "    temperature=1,\n",
    "    max_completion_tokens=1024,\n",
    "    top_p=1,\n",
    ")"
   ]
  },
  {
   "cell_type": "markdown",
   "id": "ed1aeaa2",
   "metadata": {},
   "source": [
    "Prompts and Prompt Templates\n"
   ]
  },
  {
   "cell_type": "code",
   "execution_count": 4,
   "id": "c2393d9a",
   "metadata": {},
   "outputs": [
    {
     "name": "stdout",
     "output_type": "stream",
     "text": [
      "Joseph P. Kennedy, the patriarch of the Kennedy family, had a total of 29 grandchildren. His children, particularly John F. Kennedy, Robert F. Kennedy, Ted Kennedy, and their sisters, had large families, which contributed to the substantial number of grandchildren.\n"
     ]
    }
   ],
   "source": [
    "# chat completion model\n",
    "\n",
    "from langchain_core.prompts import ChatPromptTemplate\n",
    "\n",
    "chat_template = ChatPromptTemplate.from_messages(\n",
    "    [\n",
    "        (\"system\", \"You are an {profession} expert on {topic}.\"),\n",
    "        (\"human\", \"Hello, Mr. {profession}, can you please answer a question?\"),\n",
    "        (\"ai\", \"Sure!\"),\n",
    "        (\"human\", \"{user_input}\"),\n",
    "    ]\n",
    ")\n",
    "\n",
    "messages = chat_template.format_messages(\n",
    "    profession=\"Historian\",\n",
    "    topic=\"The Kennedy family\",\n",
    "    user_input=\"How many grandchildren had Joseph P. Kennedy?\"\n",
    ")\n",
    "\n",
    "response = llamaChatModel.invoke(messages)\n",
    "print(response.content)"
   ]
  },
  {
   "cell_type": "markdown",
   "id": "1d10930a",
   "metadata": {},
   "source": [
    "Old way\n"
   ]
  },
  {
   "cell_type": "code",
   "execution_count": 5,
   "id": "f79c9154",
   "metadata": {},
   "outputs": [],
   "source": [
    "from langchain_core.messages import SystemMessage\n",
    "from langchain_core.prompts import HumanMessagePromptTemplate\n",
    "\n",
    "chat_template = ChatPromptTemplate.from_messages(\n",
    "    [\n",
    "        SystemMessage(\n",
    "            content=(\n",
    "                \"You are an Historian expert on the Kennedy family.\"\n",
    "            )\n",
    "        ),\n",
    "        HumanMessagePromptTemplate.from_template(\"{user_input}\"),\n",
    "    ]\n",
    ")\n",
    "\n",
    "messages = chat_template.format_messages(\n",
    "    user_input=\"Name the children and grandchildren of Joseph P. Kennedy?\"\n",
    ")\n",
    "\n",
    "response = llamaChatModel.invoke(messages)"
   ]
  },
  {
   "cell_type": "code",
   "execution_count": 6,
   "id": "174b81f9",
   "metadata": {},
   "outputs": [
    {
     "name": "stdout",
     "output_type": "stream",
     "text": [
      "What a delight to talk about the Kennedy family! Joseph P. Kennedy, the patriarch of the Kennedy family, had nine children with his wife Rose Fitzgerald Kennedy. Here are their children:\n",
      "\n",
      "1. Joseph P. Kennedy Jr. (1915-1944)\n",
      "2. John F. Kennedy (1917-1963), the 35th President of the United States\n",
      "3. Rosemary Kennedy (1918-2005)\n",
      "4. Kathleen Kennedy (1920-1948)\n",
      "5. Eunice Kennedy (1921-2009)\n",
      "6. Patricia Kennedy (1924-2006)\n",
      "7. Robert F. Kennedy (1925-1968), U.S. Attorney General and Senator\n",
      "8. Jean Kennedy (b. 1928)\n",
      "9. Edward M. Kennedy (1932-2009), U.S. Senator\n",
      "\n",
      "And now, let's move on to the grandchildren of Joseph P. Kennedy:\n",
      "\n",
      "**Children of John F. Kennedy:**\n",
      "\n",
      "1. Arabella Kennedy (stillborn, 1956)\n",
      "2. Caroline Bouvier Kennedy (b. 1957)\n",
      "3. John Fitzgerald Kennedy Jr. (1960-1999)\n",
      "\n",
      "**Children of Robert F. Kennedy:**\n",
      "\n",
      "1. Kathleen Kennedy Townsend (b. 1951)\n",
      "2. Joseph P. Kennedy II (b. 1952)\n",
      "3. Robert F. Kennedy Jr. (b. 1954)\n",
      "4. David Anthony Kennedy (1955-1984)\n",
      "5. Mary Richardson Kennedy (1956-2012)\n",
      "6. Michael LeMoyne Kennedy (1958-1997)\n",
      "7. Christopher George Kennedy (b. 1963)\n",
      "8. Matthew Maxwell Taylor Kennedy (b. 1965)\n",
      "9. Rory Kennedy (b. 1968)\n",
      "10. Douglas Harriman Kennedy (b. 1967)\n",
      "11. Timothy Perry Shriver Kennedy (b. 1959)\n",
      "\n",
      "**Children of Edward M. Kennedy:**\n",
      "\n",
      "1. Kara Anne Kennedy (1960-2011)\n",
      "2. Edward Moore Kennedy Jr. (b. 1961)\n",
      "3. Patrick Joseph Kennedy II (b. 1967)\n",
      "\n",
      "**Children of Jean Kennedy:**\n",
      "\n",
      "1. William Kennedy Smith (b. 1960)\n",
      "2. Amanda Mary Smith (b. 1967)\n",
      "3. Kyna Forrester Smith (b. 1972)\n",
      "\n",
      "**Children of other siblings:**\n",
      "\n",
      "Too many to list here, but I can provide more information if you'd like!\n",
      "\n",
      "Please let me know if you have any other questions about the Kennedy family!\n"
     ]
    }
   ],
   "source": [
    "print(response.content)"
   ]
  },
  {
   "cell_type": "markdown",
   "id": "5bde19d7",
   "metadata": {},
   "source": [
    "Few Shot Prompting\n"
   ]
  },
  {
   "cell_type": "code",
   "execution_count": 8,
   "id": "90e43a01",
   "metadata": {},
   "outputs": [
    {
     "name": "stdout",
     "output_type": "stream",
     "text": [
      "¿hola?\n"
     ]
    }
   ],
   "source": [
    "from langchain_core.prompts import FewShotChatMessagePromptTemplate\n",
    "\n",
    "examples = [\n",
    "    {\"input\": \"hi!\", \"output\": \"¡hola!\"},\n",
    "    {\"input\": \"bye!\", \"output\": \"¡adiós!\"},\n",
    "]\n",
    "\n",
    "example_prompt = ChatPromptTemplate.from_messages(\n",
    "    [\n",
    "        (\"human\", \"{input}\"),\n",
    "        (\"ai\", \"{output}\"),\n",
    "    ]\n",
    ")\n",
    "\n",
    "few_shot_prompt = FewShotChatMessagePromptTemplate(\n",
    "    example_prompt=example_prompt,\n",
    "    examples=examples,\n",
    ")\n",
    "\n",
    "final_prompt = ChatPromptTemplate.from_messages(\n",
    "    [\n",
    "        (\"system\", \"You are an English-Spanish translator.\"),\n",
    "        few_shot_prompt,\n",
    "        (\"human\", \"{input}\"),\n",
    "    ]\n",
    ")\n",
    "response= llamaChatModel.invoke(final_prompt.format_messages(input=\"hi?\"))\n",
    "print(response.content)"
   ]
  },
  {
   "cell_type": "code",
   "execution_count": null,
   "id": "5b055582",
   "metadata": {},
   "outputs": [],
   "source": []
  }
 ],
 "metadata": {
  "kernelspec": {
   "display_name": "llmapp",
   "language": "python",
   "name": "python3"
  },
  "language_info": {
   "codemirror_mode": {
    "name": "ipython",
    "version": 3
   },
   "file_extension": ".py",
   "mimetype": "text/x-python",
   "name": "python",
   "nbconvert_exporter": "python",
   "pygments_lexer": "ipython3",
   "version": "3.11.13"
  }
 },
 "nbformat": 4,
 "nbformat_minor": 5
}
